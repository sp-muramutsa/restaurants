{
 "cells": [
  {
   "cell_type": "code",
   "execution_count": 8,
   "id": "bd335e9d",
   "metadata": {},
   "outputs": [],
   "source": [
    "from selenium import webdriver\n",
    "from selenium.webdriver.common.by import By\n",
    "from selenium.webdriver.common.keys import Keys\n",
    "from selenium.webdriver.common.action_chains import ActionChains\n",
    "from selenium.common.exceptions import TimeoutException\n",
    "from time import sleep\n",
    "import csv\n",
    "import os"
   ]
  },
  {
   "cell_type": "code",
   "execution_count": 9,
   "id": "57a23604",
   "metadata": {},
   "outputs": [],
   "source": [
    "driver = webdriver.Chrome() \n",
    "driver.set_page_load_timeout(10)\n",
    "try:\n",
    "    driver.get('https://www.subway.com/en-us/locator')\n",
    "except TimeoutException:\n",
    "    driver.execute_script(\"window.stop();\")\n",
    "\n"
   ]
  },
  {
   "cell_type": "code",
   "execution_count": 10,
   "id": "ee3ac621",
   "metadata": {},
   "outputs": [
    {
     "name": "stdout",
     "output_type": "stream",
     "text": [
      "Type Zip or City State: Dallas, Tx\n"
     ]
    }
   ],
   "source": [
    "search_wrapper = driver.find_element(By.CSS_SELECTOR, \".searchBoxWrapper\")\n",
    "input_formula = driver.find_element(By.CSS_SELECTOR, \".searchLocationInput\")\n",
    "location = input(\"Type Zip or City State: \")\n",
    "input_formula.send_keys(location)\n",
    "input_formula.send_keys(Keys.ENTER)"
   ]
  },
  {
   "cell_type": "code",
   "execution_count": 11,
   "id": "0eb16a5a",
   "metadata": {},
   "outputs": [],
   "source": [
    "restaurants = []\n",
    "NUMBER_OF_PAGES = 5\n",
    "for i in range(NUMBER_OF_PAGES):\n",
    "    sleep(5)\n",
    "    try:\n",
    "        next_button = driver.find_element(By.CSS_SELECTOR, \".sprite-next-page-arrow.pagingButton\")\n",
    "        ActionChains(driver).move_to_element(next_button).click().perform()\n",
    "\n",
    "        restaurant_divs = driver.find_elements(By.CLASS_NAME, \"location\")\n",
    "        for div in restaurant_divs:\n",
    "            street_address = div.find_element(By.CLASS_NAME, \"streetAddress\").get_attribute(\"innerHTML\")\n",
    "            city_state_address = div.find_element(By.CLASS_NAME, \"cityStateAddress\").get_attribute(\"innerHTML\")\n",
    "            phone_number = div.find_element(By.CLASS_NAME, \"listingPhoneNumber\").get_attribute(\"innerHTML\")\n",
    "            address = street_address + \", \" + city_state_address\n",
    "            distance = distance.split()[0]\n",
    "            restaurant = {\n",
    "                \"address\": address,\n",
    "                \"phone_number\": phone_number,\n",
    "            }\n",
    "\n",
    "            restaurants.append(restaurant)\n",
    "    except Exception as e:\n",
    "        print(f\"Exception {e}\")\n",
    "        break\n",
    "\n",
    "    "
   ]
  },
  {
   "cell_type": "code",
   "execution_count": 12,
   "id": "3d85aab0",
   "metadata": {},
   "outputs": [],
   "source": [
    "# Append the restaurants subway.csv\n",
    "if restaurants:\n",
    "    fieldnames = list(restaurants[0].keys())\n",
    "\n",
    "file_exists = os.path.isfile(\"subway.csv\")\n",
    "with open(\"subway.csv\", mode=\"a\", newline=\"\") as output_file:\n",
    "    writer = csv.DictWriter(output_file, fieldnames=fieldnames)\n",
    "    if not file_exists:\n",
    "        writer.writeheader()\n",
    "    writer.writerows(restaurants)"
   ]
  },
  {
   "cell_type": "code",
   "execution_count": 16,
   "id": "dd80f83b",
   "metadata": {},
   "outputs": [],
   "source": [
    "# Write to restaurants.csv\n",
    "fieldnames = [\"name\", \"address\", \"restaurant_type\"]\n",
    "for restaurant in restaurants:\n",
    "    restaurant[\"name\"] = restaurant[\"address\"]\n",
    "    del restaurant[\"phone_number\"]\n",
    "    restaurant[\"restaurant_type\"] = \"Subway\"\n",
    "    \n",
    "file_exists = os.path.isfile(\"restaurants.csv\")   \n",
    "with open(\"restaurants.csv\", mode=\"a\", newline=\"\") as output_file:\n",
    "    writer = csv.DictWriter(output_file, fieldnames=fieldnames)\n",
    "    if not file_exists:\n",
    "        writer.writeheader()\n",
    "    writer.writerows(restaurants)"
   ]
  },
  {
   "cell_type": "code",
   "execution_count": null,
   "id": "44f75596",
   "metadata": {},
   "outputs": [],
   "source": []
  }
 ],
 "metadata": {
  "kernelspec": {
   "display_name": "Python 3 (ipykernel)",
   "language": "python",
   "name": "python3"
  },
  "language_info": {
   "codemirror_mode": {
    "name": "ipython",
    "version": 3
   },
   "file_extension": ".py",
   "mimetype": "text/x-python",
   "name": "python",
   "nbconvert_exporter": "python",
   "pygments_lexer": "ipython3",
   "version": "3.11.5"
  }
 },
 "nbformat": 4,
 "nbformat_minor": 5
}
